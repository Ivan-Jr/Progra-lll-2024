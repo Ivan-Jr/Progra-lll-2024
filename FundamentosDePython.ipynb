{
  "nbformat": 4,
  "nbformat_minor": 0,
  "metadata": {
    "colab": {
      "provenance": [],
      "authorship_tag": "ABX9TyPV0U8DJor0yASVJQ3cJlIi",
      "include_colab_link": true
    },
    "kernelspec": {
      "name": "python3",
      "display_name": "Python 3"
    },
    "language_info": {
      "name": "python"
    }
  },
  "cells": [
    {
      "cell_type": "markdown",
      "metadata": {
        "id": "view-in-github",
        "colab_type": "text"
      },
      "source": [
        "<a href=\"https://colab.research.google.com/github/Ivan-Jr/Progra-lll-2024/blob/main/FundamentosDePython.ipynb\" target=\"_parent\"><img src=\"https://colab.research.google.com/assets/colab-badge.svg\" alt=\"Open In Colab\"/></a>"
      ]
    },
    {
      "cell_type": "code",
      "execution_count": null,
      "metadata": {
        "id": "1-H8TeLL8ixb"
      },
      "outputs": [],
      "source": []
    },
    {
      "cell_type": "markdown",
      "source": [
        "EJERCICIO: elevar un número al cuadrado"
      ],
      "metadata": {
        "id": "Dr1VerRk8tLY"
      }
    },
    {
      "cell_type": "code",
      "source": [
        "def elevarCuadrado(base,exponente):\n",
        "  return base**exponente"
      ],
      "metadata": {
        "id": "FXrTCofL8zQ5"
      },
      "execution_count": 6,
      "outputs": []
    },
    {
      "cell_type": "code",
      "source": [
        "  num = int(input(\"Num: \"))\n",
        "  print(\"Cuadrado\", elevarCuadrado(num,3))"
      ],
      "metadata": {
        "colab": {
          "base_uri": "https://localhost:8080/"
        },
        "id": "BMAGz8IT9kXY",
        "outputId": "f7133dc3-15e4-4f55-9695-7aff745fa0aa"
      },
      "execution_count": 7,
      "outputs": [
        {
          "output_type": "stream",
          "name": "stdout",
          "text": [
            "Num: 3\n",
            "Cuadrado 27\n"
          ]
        }
      ]
    },
    {
      "cell_type": "markdown",
      "source": [
        "USANDO FUNCIONES LAMBDA"
      ],
      "metadata": {
        "id": "PrOq_JLi9n_g"
      }
    },
    {
      "cell_type": "code",
      "source": [
        "elevarCuadrado = lambda base,exponente: base**exponente"
      ],
      "metadata": {
        "id": "bhMtJ_JS9sWg"
      },
      "execution_count": 8,
      "outputs": []
    },
    {
      "cell_type": "code",
      "source": [
        "valor = int(input(\"Num: \"))\n",
        "print(\"Cuadrado\",elevarCuadrado(valor,2))"
      ],
      "metadata": {
        "colab": {
          "base_uri": "https://localhost:8080/"
        },
        "id": "52Y2_SPY91AY",
        "outputId": "fb3ba638-02cf-4503-e1e9-8b6b449958e3"
      },
      "execution_count": 9,
      "outputs": [
        {
          "output_type": "stream",
          "name": "stdout",
          "text": [
            "Num: 3\n",
            "Cuadrado 9\n"
          ]
        }
      ]
    },
    {
      "cell_type": "code",
      "source": [
        "serie = [5,4,3,2,6,7]\n",
        "resp = (map(lambda x: x**2,serie))\n",
        "print(list(resp))\n",
        "\n",
        "resp2 = map(lambda x: x**3,serie)\n",
        "print(list(resp2))"
      ],
      "metadata": {
        "colab": {
          "base_uri": "https://localhost:8080/"
        },
        "id": "LnGeajeE_iEL",
        "outputId": "107ad755-04fb-441c-eafa-c277de36343b"
      },
      "execution_count": 13,
      "outputs": [
        {
          "output_type": "stream",
          "name": "stdout",
          "text": [
            "[25, 16, 9, 4, 36, 49]\n",
            "[125, 64, 27, 8, 216, 343]\n"
          ]
        }
      ]
    },
    {
      "cell_type": "markdown",
      "source": [
        "EJERCICIO: obtener la raiz cuadrada de una serie de números fijos."
      ],
      "metadata": {
        "id": "aaaJxHw2Cu-x"
      }
    },
    {
      "cell_type": "code",
      "source": [
        "serie = [5,4,3,2,6,7]\n",
        "resp = (map(lambda x: x**0.5,serie))\n",
        "print(list(resp))"
      ],
      "metadata": {
        "colab": {
          "base_uri": "https://localhost:8080/"
        },
        "id": "8eSTAfTtDSOI",
        "outputId": "6d182dfc-e31d-4200-bb30-a40993df3b91"
      },
      "execution_count": 16,
      "outputs": [
        {
          "output_type": "stream",
          "name": "stdout",
          "text": [
            "[2.23606797749979, 2.0, 1.7320508075688772, 1.4142135623730951, 2.449489742783178, 2.6457513110645907]\n"
          ]
        }
      ]
    }
  ]
}