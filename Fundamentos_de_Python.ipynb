{
  "nbformat": 4,
  "nbformat_minor": 0,
  "metadata": {
    "colab": {
      "provenance": [],
      "authorship_tag": "ABX9TyNISrdOxfIzZIFba1oVOElX",
      "include_colab_link": true
    },
    "kernelspec": {
      "name": "python3",
      "display_name": "Python 3"
    },
    "language_info": {
      "name": "python"
    }
  },
  "cells": [
    {
      "cell_type": "markdown",
      "metadata": {
        "id": "view-in-github",
        "colab_type": "text"
      },
      "source": [
        "<a href=\"https://colab.research.google.com/github/Ivan-Jr/Progra-lll-2024/blob/main/Fundamentos_de_Python.ipynb\" target=\"_parent\"><img src=\"https://colab.research.google.com/assets/colab-badge.svg\" alt=\"Open In Colab\"/></a>"
      ]
    },
    {
      "cell_type": "code",
      "execution_count": 4,
      "metadata": {
        "colab": {
          "base_uri": "https://localhost:8080/"
        },
        "id": "ZwCGP-7b4WBp",
        "outputId": "ff3a7675-1983-4c22-d049-0a4f919a7805"
      },
      "outputs": [
        {
          "output_type": "stream",
          "name": "stdout",
          "text": [
            "¡Hola, Mundo!\n",
            "Hola Ivan Portillo inicial: I r\n"
          ]
        }
      ],
      "source": [
        "print(\"¡Hola, Mundo!\")\n",
        "nombre = \"Ivan Portillo\"\n",
        "\n",
        "print(\"Hola\", nombre, \"inicial:\", nombre[0], nombre[7])"
      ]
    },
    {
      "cell_type": "markdown",
      "source": [
        "EJERCICIO Crear un programa en python que sume 2 números"
      ],
      "metadata": {
        "id": "0ZnJFIJWAbv0"
      }
    },
    {
      "cell_type": "code",
      "source": [
        "num1 = 5\n",
        "num2 = 9.5\n",
        "resp = num1 + num2\n",
        "print(\"La suma es:\", resp)"
      ],
      "metadata": {
        "colab": {
          "base_uri": "https://localhost:8080/"
        },
        "id": "QixcFVQPApsL",
        "outputId": "1126ed90-e68c-496e-92ef-c50c2f93e9a5"
      },
      "execution_count": 8,
      "outputs": [
        {
          "output_type": "stream",
          "name": "stdout",
          "text": [
            "La suma es: 14.5\n"
          ]
        }
      ]
    },
    {
      "cell_type": "code",
      "source": [],
      "metadata": {
        "id": "ooAIp1sgBhZv"
      },
      "execution_count": null,
      "outputs": []
    },
    {
      "cell_type": "markdown",
      "source": [
        "EJERCICIO Crear un programa en python que sume 2 números producidos por el usuario"
      ],
      "metadata": {
        "id": "L15jOsX7BSRg"
      }
    },
    {
      "cell_type": "code",
      "source": [
        "# prompt: EJERCICIO Crear un programa en python que sume 2 números producidos por el usuario\n",
        "\n",
        "print(\"¡Hola, Mundo!\")\n",
        "nombre = \"Ivan Portillo\"\n",
        "\n",
        "print(\"Hola\", nombre, \"inicial:\", nombre[0], nombre[7])\n",
        "# EJERCICIO Crear un programa en python que sume 2 números\n",
        "num1 = 5\n",
        "num2 = 9.5\n",
        "resp = num1 + num2\n",
        "print(\"La suma es:\", resp)\n",
        "# EJERCICIO Crear un programa en python que sume 2 números producidos por el usuario\n",
        "num1 = float(input(\"Ingrese el primer número: \"))\n",
        "num2 = float(input(\"Ingrese el segundo número: \"))\n",
        "suma = num1 + num2\n",
        "print(\"La suma de\", num1, \"y\", num2, \"es:\", suma)\n"
      ],
      "metadata": {
        "colab": {
          "base_uri": "https://localhost:8080/"
        },
        "id": "9QEdLA8kBj0W",
        "outputId": "f77e2365-ae7d-40ab-c765-90fe805a751e"
      },
      "execution_count": 9,
      "outputs": [
        {
          "output_type": "stream",
          "name": "stdout",
          "text": [
            "¡Hola, Mundo!\n",
            "Hola Ivan Portillo inicial: I r\n",
            "La suma es: 14.5\n",
            "Ingrese el primer número: 5\n",
            "Ingrese el segundo número: 6\n",
            "La suma de 5.0 y 6.0 es: 11.0\n"
          ]
        }
      ]
    },
    {
      "cell_type": "code",
      "source": [
        "#Tipos de datos\n",
        "num1 = 5\n",
        "num2 = 5.9\n",
        "nombre = \"Ivan Portillo\"\n",
        "print(nombre[0:4], nombre[:4], nombre[-1], nombre[5:len(nombre)])\n",
        "\n",
        "estado = False\n",
        "print(estado)\n",
        "\n",
        "print(type(nombre), type(num1), type(num2), type(estado))"
      ],
      "metadata": {
        "colab": {
          "base_uri": "https://localhost:8080/"
        },
        "id": "qLxgyvIFCWE1",
        "outputId": "f59452f9-c565-4970-ea55-6fd9411fa388"
      },
      "execution_count": 12,
      "outputs": [
        {
          "output_type": "stream",
          "name": "stdout",
          "text": [
            "Ivan Ivan o Portillo\n",
            "False\n",
            "<class 'str'> <class 'int'> <class 'float'> <class 'bool'>\n"
          ]
        }
      ]
    },
    {
      "cell_type": "markdown",
      "source": [
        "EJERCICIO, cree un programa en python que lea un número y determina si es paro impar."
      ],
      "metadata": {
        "id": "XC0HVigkEkN0"
      }
    },
    {
      "cell_type": "code",
      "source": [
        "num = int(input(\"Ingrese un número: \"))\n",
        "if num % 2 == 0:\n",
        "    print(\"El número\", num, \"es par\")\n",
        "else:\n",
        "    print(\"El número\", num, \"es impar\")"
      ],
      "metadata": {
        "colab": {
          "base_uri": "https://localhost:8080/"
        },
        "id": "QE6v5Ol0E0Er",
        "outputId": "a77eefb7-0d43-4c0b-b6fb-6d99dc8008f6"
      },
      "execution_count": 14,
      "outputs": [
        {
          "output_type": "stream",
          "name": "stdout",
          "text": [
            "Ingrese un número: 2\n",
            "El número 2 es par\n"
          ]
        }
      ]
    }
  ]
}